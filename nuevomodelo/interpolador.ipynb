{
 "cells": [
  {
   "cell_type": "code",
   "execution_count": 1,
   "id": "a286d18d",
   "metadata": {},
   "outputs": [
    {
     "data": {
      "text/plain": [
       "T_agua      7588\n",
       "T_aire      2719\n",
       "RH_aire    27660\n",
       "DP_aire    27660\n",
       "dtype: int64"
      ]
     },
     "execution_count": 1,
     "metadata": {},
     "output_type": "execute_result"
    }
   ],
   "source": [
    "import pandas as pd\n",
    "# Cargar tu serie temporal desde un archivo CSV\n",
    "df = pd.read_csv('dataun14-23.csv', parse_dates=['Date'], index_col='Date')\n",
    "\n",
    "# Asegurarse de que los datos estén ordenados por fecha\n",
    "df = df.sort_index()\n",
    "\n",
    "#ver la cantidad de valores NaN\n",
    "df.isna().sum()"
   ]
  },
  {
   "cell_type": "code",
   "execution_count": 5,
   "id": "b8b71f6f",
   "metadata": {},
   "outputs": [
    {
     "ename": "ValueError",
     "evalue": "This function does not handle missing values",
     "output_type": "error",
     "traceback": [
      "\u001b[1;31m---------------------------------------------------------------------------\u001b[0m",
      "\u001b[1;31mValueError\u001b[0m                                Traceback (most recent call last)",
      "Cell \u001b[1;32mIn[5], line 19\u001b[0m\n\u001b[0;32m     16\u001b[0m df[column] \u001b[38;5;241m=\u001b[39m df[column]\u001b[38;5;241m.\u001b[39minterpolate(method\u001b[38;5;241m=\u001b[39m\u001b[38;5;124m'\u001b[39m\u001b[38;5;124mlinear\u001b[39m\u001b[38;5;124m'\u001b[39m)\n\u001b[0;32m     18\u001b[0m \u001b[38;5;66;03m# Aplicar seasonal_decompose para descomponer la serie temporal\u001b[39;00m\n\u001b[1;32m---> 19\u001b[0m result \u001b[38;5;241m=\u001b[39m \u001b[43mseasonal_decompose\u001b[49m\u001b[43m(\u001b[49m\u001b[43mdf\u001b[49m\u001b[43m[\u001b[49m\u001b[43mcolumn\u001b[49m\u001b[43m]\u001b[49m\u001b[43m,\u001b[49m\u001b[43m \u001b[49m\u001b[43mmodel\u001b[49m\u001b[38;5;241;43m=\u001b[39;49m\u001b[38;5;124;43m'\u001b[39;49m\u001b[38;5;124;43madditive\u001b[39;49m\u001b[38;5;124;43m'\u001b[39;49m\u001b[43m,\u001b[49m\u001b[43m \u001b[49m\u001b[43mperiod\u001b[49m\u001b[38;5;241;43m=\u001b[39;49m\u001b[38;5;241;43m3\u001b[39;49m\u001b[43m)\u001b[49m\n\u001b[0;32m     21\u001b[0m \u001b[38;5;66;03m# Obtener los componentes\u001b[39;00m\n\u001b[0;32m     22\u001b[0m trend \u001b[38;5;241m=\u001b[39m result\u001b[38;5;241m.\u001b[39mtrend\n",
      "File \u001b[1;32m~\\AppData\\Local\\Programs\\Python\\Python311\\Lib\\site-packages\\statsmodels\\tsa\\seasonal.py:153\u001b[0m, in \u001b[0;36mseasonal_decompose\u001b[1;34m(x, model, filt, period, two_sided, extrapolate_trend)\u001b[0m\n\u001b[0;32m    150\u001b[0m nobs \u001b[38;5;241m=\u001b[39m \u001b[38;5;28mlen\u001b[39m(x)\n\u001b[0;32m    152\u001b[0m \u001b[38;5;28;01mif\u001b[39;00m \u001b[38;5;129;01mnot\u001b[39;00m np\u001b[38;5;241m.\u001b[39mall(np\u001b[38;5;241m.\u001b[39misfinite(x)):\n\u001b[1;32m--> 153\u001b[0m     \u001b[38;5;28;01mraise\u001b[39;00m \u001b[38;5;167;01mValueError\u001b[39;00m(\u001b[38;5;124m\"\u001b[39m\u001b[38;5;124mThis function does not handle missing values\u001b[39m\u001b[38;5;124m\"\u001b[39m)\n\u001b[0;32m    154\u001b[0m \u001b[38;5;28;01mif\u001b[39;00m model\u001b[38;5;241m.\u001b[39mstartswith(\u001b[38;5;124m\"\u001b[39m\u001b[38;5;124mm\u001b[39m\u001b[38;5;124m\"\u001b[39m):\n\u001b[0;32m    155\u001b[0m     \u001b[38;5;28;01mif\u001b[39;00m np\u001b[38;5;241m.\u001b[39many(x \u001b[38;5;241m<\u001b[39m\u001b[38;5;241m=\u001b[39m \u001b[38;5;241m0\u001b[39m):\n",
      "\u001b[1;31mValueError\u001b[0m: This function does not handle missing values"
     ]
    }
   ],
   "source": [
    "import pandas as pd\n",
    "from statsmodels.tsa.seasonal import seasonal_decompose\n",
    "\n",
    "# Crear una lista para almacenar las columnas interpoladas\n",
    "interpolated_columns = []\n",
    "\n",
    "# Iterar sobre cada columna de datos\n",
    "for column in df.columns:\n",
    "    # Aplicar seasonal_decompose para descomponer la serie temporal\n",
    "    result = seasonal_decompose(df[column], model='additive', period=3)\n",
    "\n",
    "    # Obtener los componentes\n",
    "    trend = result.trend\n",
    "    seasonal = result.seasonal\n",
    "    residual = result.resid\n",
    "\n",
    "    # Realizar la interpolación solo en los residuos (puedes usar otros métodos)\n",
    "    residual_interpolated = residual.interpolate(method='linear')\n",
    "\n",
    "    # Reconstruir la serie temporal con los componentes descompuestos e interpolados\n",
    "    interpolated_series = trend + seasonal + residual_interpolated\n",
    "\n",
    "    # Almacenar la columna interpolada en la lista\n",
    "    interpolated_columns.append(interpolated_series)\n",
    "\n",
    "# Crear un nuevo DataFrame con las columnas interpoladas\n",
    "df_interpolated = pd.concat(interpolated_columns, axis=1)\n",
    "\n",
    "# Guardar el DataFrame interpolado en un nuevo archivo CSV\n",
    "df_interpolated.to_csv('data_int.csv')\n"
   ]
  },
  {
   "cell_type": "code",
   "execution_count": null,
   "id": "232f6020",
   "metadata": {},
   "outputs": [],
   "source": []
  }
 ],
 "metadata": {
  "kernelspec": {
   "display_name": "Python 3 (ipykernel)",
   "language": "python",
   "name": "python3"
  },
  "language_info": {
   "codemirror_mode": {
    "name": "ipython",
    "version": 3
   },
   "file_extension": ".py",
   "mimetype": "text/x-python",
   "name": "python",
   "nbconvert_exporter": "python",
   "pygments_lexer": "ipython3",
   "version": "3.11.3"
  }
 },
 "nbformat": 4,
 "nbformat_minor": 5
}
